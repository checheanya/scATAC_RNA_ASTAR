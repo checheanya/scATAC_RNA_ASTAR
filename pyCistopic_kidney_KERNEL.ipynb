{
 "cells": [
  {
   "cell_type": "code",
   "execution_count": 1,
   "id": "fed6b2b6-9b6e-4fa4-b856-e1c48dbd78d1",
   "metadata": {},
   "outputs": [],
   "source": [
    "import pycisTopic\n",
    "import os\n",
    "import pybiomart as pbm\n",
    "from pycisTopic.qc import *"
   ]
  },
  {
   "cell_type": "code",
   "execution_count": 2,
   "id": "1af8d80a-b628-4ad1-b1ba-ec048c0457c4",
   "metadata": {},
   "outputs": [],
   "source": [
    "projdir = \"./cisTopic\"\n",
    "tmp_dir = \"./cisTopic/tmp/\"\n",
    "\n",
    "if not os.path.exists(tmp_dir):\n",
    "    os.makedirs(tmp_dir)"
   ]
  },
  {
   "cell_type": "code",
   "execution_count": 13,
   "id": "d20d8847-74e8-425f-bcf2-31382d7c6706",
   "metadata": {},
   "outputs": [],
   "source": [
    "fragments_dict = {'kideny': '/home/annac/datasets/kidney_10x/fragments.tsv.gz'}"
   ]
  },
  {
   "cell_type": "code",
   "execution_count": 4,
   "id": "6972f05d-6b82-4f28-a38d-4787fa58eea0",
   "metadata": {},
   "outputs": [
    {
     "name": "stderr",
     "output_type": "stream",
     "text": [
      "/tmp/ipykernel_46637/2454158586.py:15: FutureWarning: The default value of regex will change from True to False in a future version.\n",
      "  annot['Chromosome/scaffold name'] = annot['Chromosome/scaffold name'].str.replace(r'(\\b\\S)', r'chr\\1')\n"
     ]
    }
   ],
   "source": [
    "# For mouse (mm39)\n",
    "#dataset = pbm.Dataset(name='mmusculus_gene_ensembl',  host='http://www.ensembl.org')\n",
    "# For mouse (mm10)\n",
    "#dataset = pbm.Dataset(name='mmusculus_gene_ensembl',  host='http://nov2020.archive.ensembl.org/')\n",
    "# For human (hg38)\n",
    "dataset = pbm.Dataset(name='hsapiens_gene_ensembl',  host='http://www.ensembl.org')\n",
    "# For human (hg19)\n",
    "#dataset = pbm.Dataset(name='hsapiens_gene_ensembl',  host='http://grch37.ensembl.org/')\n",
    "# For fly (dm6)\n",
    "# dataset = pbm.Dataset(name='dmelanogaster_gene_ensembl',  host='http://www.ensembl.org')\n",
    "\n",
    "annot = dataset.query(attributes=['chromosome_name', 'transcription_start_site', 'strand', 'external_gene_name', 'transcript_biotype'])\n",
    "filter = annot['Chromosome/scaffold name'].str.contains('CHR|GL|JH|MT')\n",
    "annot = annot[~filter]\n",
    "annot['Chromosome/scaffold name'] = annot['Chromosome/scaffold name'].str.replace(r'(\\b\\S)', r'chr\\1')\n",
    "annot.columns=['Chromosome', 'Start', 'Strand', 'Gene', 'Transcript_type']\n",
    "annot = annot[annot.Transcript_type == 'protein_coding']"
   ]
  },
  {
   "cell_type": "code",
   "execution_count": 12,
   "id": "58ac9387-276c-4ab0-b0d8-56f17c38a297",
   "metadata": {},
   "outputs": [
    {
     "name": "stdout",
     "output_type": "stream",
     "text": [
      "2023-07-20 21:15:07,825 cisTopic     INFO     n_cpu is larger than the number of samples. Setting n_cpu to the number of samples\n"
     ]
    },
    {
     "ename": "TypeError",
     "evalue": "can only concatenate str (not \"int\") to str",
     "output_type": "error",
     "traceback": [
      "\u001b[0;31m---------------------------------------------------------------------------\u001b[0m",
      "\u001b[0;31mTypeError\u001b[0m                                 Traceback (most recent call last)",
      "Cell \u001b[0;32mIn[12], line 3\u001b[0m\n\u001b[1;32m      1\u001b[0m path_to_regions \u001b[38;5;241m=\u001b[39m \u001b[38;5;124m'\u001b[39m\u001b[38;5;124m/home/annac/datasets/kidney_10x/H_Kidney_Cancer_Chromium_Nuc_Iso_vs_SaltyEZ_vs_ComplexTissueDP_atac_peaks.bed\u001b[39m\u001b[38;5;124m'\u001b[39m\n\u001b[0;32m----> 3\u001b[0m metadata_bc, profile_data_dict \u001b[38;5;241m=\u001b[39m \u001b[43mcompute_qc_stats\u001b[49m\u001b[43m(\u001b[49m\u001b[43mfragments_dict\u001b[49m\u001b[43m \u001b[49m\u001b[38;5;241;43m=\u001b[39;49m\u001b[43m \u001b[49m\u001b[43mfragments_dict\u001b[49m\u001b[43m,\u001b[49m\n\u001b[1;32m      4\u001b[0m \u001b[43m                \u001b[49m\u001b[43mtss_annotation\u001b[49m\u001b[43m \u001b[49m\u001b[38;5;241;43m=\u001b[39;49m\u001b[43m \u001b[49m\u001b[43mannot\u001b[49m\u001b[43m,\u001b[49m\n\u001b[1;32m      5\u001b[0m \u001b[43m                \u001b[49m\u001b[43mstats\u001b[49m\u001b[38;5;241;43m=\u001b[39;49m\u001b[43m[\u001b[49m\u001b[38;5;124;43m'\u001b[39;49m\u001b[38;5;124;43mbarcode_rank_plot\u001b[39;49m\u001b[38;5;124;43m'\u001b[39;49m\u001b[43m,\u001b[49m\u001b[43m \u001b[49m\u001b[38;5;124;43m'\u001b[39;49m\u001b[38;5;124;43mduplicate_rate\u001b[39;49m\u001b[38;5;124;43m'\u001b[39;49m\u001b[43m,\u001b[49m\u001b[43m \u001b[49m\u001b[38;5;124;43m'\u001b[39;49m\u001b[38;5;124;43minsert_size_distribution\u001b[39;49m\u001b[38;5;124;43m'\u001b[39;49m\u001b[43m,\u001b[49m\u001b[43m \u001b[49m\u001b[38;5;124;43m'\u001b[39;49m\u001b[38;5;124;43mprofile_tss\u001b[39;49m\u001b[38;5;124;43m'\u001b[39;49m\u001b[43m,\u001b[49m\u001b[43m \u001b[49m\u001b[38;5;124;43m'\u001b[39;49m\u001b[38;5;124;43mfrip\u001b[39;49m\u001b[38;5;124;43m'\u001b[39;49m\u001b[43m]\u001b[49m\u001b[43m,\u001b[49m\n\u001b[1;32m      6\u001b[0m \u001b[43m                \u001b[49m\u001b[43mlabel_list\u001b[49m\u001b[43m \u001b[49m\u001b[38;5;241;43m=\u001b[39;49m\u001b[43m \u001b[49m\u001b[38;5;28;43;01mNone\u001b[39;49;00m\u001b[43m,\u001b[49m\n\u001b[1;32m      7\u001b[0m \u001b[43m                \u001b[49m\u001b[43mpath_to_regions\u001b[49m\u001b[43m \u001b[49m\u001b[38;5;241;43m=\u001b[39;49m\u001b[43m \u001b[49m\u001b[43mpath_to_regions\u001b[49m\u001b[43m,\u001b[49m\n\u001b[1;32m      8\u001b[0m \u001b[43m                \u001b[49m\u001b[43mn_cpu\u001b[49m\u001b[43m \u001b[49m\u001b[38;5;241;43m=\u001b[39;49m\u001b[43m \u001b[49m\u001b[38;5;241;43m4\u001b[39;49m\u001b[43m,\u001b[49m\n\u001b[1;32m      9\u001b[0m \u001b[43m                \u001b[49m\u001b[43mvalid_bc\u001b[49m\u001b[43m \u001b[49m\u001b[38;5;241;43m=\u001b[39;49m\u001b[43m \u001b[49m\u001b[38;5;28;43;01mNone\u001b[39;49;00m\u001b[43m,\u001b[49m\n\u001b[1;32m     10\u001b[0m \u001b[43m                \u001b[49m\u001b[43mn_frag\u001b[49m\u001b[43m \u001b[49m\u001b[38;5;241;43m=\u001b[39;49m\u001b[43m \u001b[49m\u001b[38;5;241;43m2000\u001b[39;49m\u001b[43m,\u001b[49m\n\u001b[1;32m     11\u001b[0m \u001b[43m                \u001b[49m\u001b[43mn_bc\u001b[49m\u001b[43m \u001b[49m\u001b[38;5;241;43m=\u001b[39;49m\u001b[43m \u001b[49m\u001b[38;5;28;43;01mNone\u001b[39;49;00m\u001b[43m,\u001b[49m\n\u001b[1;32m     12\u001b[0m \u001b[43m                \u001b[49m\u001b[43mtss_flank_window\u001b[49m\u001b[43m \u001b[49m\u001b[38;5;241;43m=\u001b[39;49m\u001b[43m \u001b[49m\u001b[38;5;241;43m2000\u001b[39;49m\u001b[43m,\u001b[49m\n\u001b[1;32m     13\u001b[0m \u001b[43m                \u001b[49m\u001b[43mtss_window\u001b[49m\u001b[43m \u001b[49m\u001b[38;5;241;43m=\u001b[39;49m\u001b[43m \u001b[49m\u001b[38;5;241;43m50\u001b[39;49m\u001b[43m,\u001b[49m\n\u001b[1;32m     14\u001b[0m \u001b[43m                \u001b[49m\u001b[43mtss_minimum_signal_window\u001b[49m\u001b[43m \u001b[49m\u001b[38;5;241;43m=\u001b[39;49m\u001b[43m \u001b[49m\u001b[38;5;241;43m100\u001b[39;49m\u001b[43m,\u001b[49m\n\u001b[1;32m     15\u001b[0m \u001b[43m                \u001b[49m\u001b[43mtss_rolling_window\u001b[49m\u001b[43m \u001b[49m\u001b[38;5;241;43m=\u001b[39;49m\u001b[43m \u001b[49m\u001b[38;5;241;43m10\u001b[39;49m\u001b[43m,\u001b[49m\n\u001b[1;32m     16\u001b[0m \u001b[43m                \u001b[49m\u001b[43mremove_duplicates\u001b[49m\u001b[43m \u001b[49m\u001b[38;5;241;43m=\u001b[39;49m\u001b[43m \u001b[49m\u001b[38;5;28;43;01mTrue\u001b[39;49;00m\u001b[43m,\u001b[49m\n\u001b[1;32m     17\u001b[0m \u001b[43m                \u001b[49m\u001b[43m_temp_dir\u001b[49m\u001b[43m \u001b[49m\u001b[38;5;241;43m=\u001b[39;49m\u001b[43m \u001b[49m\u001b[43mtmp_dir\u001b[49m\u001b[43m \u001b[49m\u001b[38;5;241;43m+\u001b[39;49m\u001b[43m \u001b[49m\u001b[38;5;124;43m'\u001b[39;49m\u001b[38;5;124;43mray_spill\u001b[39;49m\u001b[38;5;124;43m'\u001b[39;49m\u001b[43m,\u001b[49m\n\u001b[1;32m     18\u001b[0m \u001b[43m                \u001b[49m\u001b[43muse_polars\u001b[49m\u001b[43m \u001b[49m\u001b[38;5;241;43m=\u001b[39;49m\u001b[43m \u001b[49m\u001b[38;5;28;43;01mTrue\u001b[39;49;00m\u001b[43m)\u001b[49m\n",
      "File \u001b[0;32m~/pycisTopic/pycisTopic/qc.py:1033\u001b[0m, in \u001b[0;36mcompute_qc_stats\u001b[0;34m(fragments_dict, tss_annotation, stats, label_list, path_to_regions, n_cpu, partition, valid_bc, n_frag, n_bc, tss_flank_window, tss_window, tss_minimum_signal_window, tss_rolling_window, min_norm, check_for_duplicates, remove_duplicates, use_polars, **kwargs)\u001b[0m\n\u001b[1;32m   1031\u001b[0m     ray\u001b[38;5;241m.\u001b[39mshutdown()\n\u001b[1;32m   1032\u001b[0m \u001b[38;5;28;01melse\u001b[39;00m:\n\u001b[0;32m-> 1033\u001b[0m     qc_stats \u001b[38;5;241m=\u001b[39m [\n\u001b[1;32m   1034\u001b[0m             compute_qc_stats_single(\n\u001b[1;32m   1035\u001b[0m                 fragments_list[i],\n\u001b[1;32m   1036\u001b[0m                 tss_annotation\u001b[38;5;241m=\u001b[39mtss_annotation,\n\u001b[1;32m   1037\u001b[0m                 stats\u001b[38;5;241m=\u001b[39mstats,\n\u001b[1;32m   1038\u001b[0m                 label\u001b[38;5;241m=\u001b[39mlabel_list[i],\n\u001b[1;32m   1039\u001b[0m                 path_to_regions\u001b[38;5;241m=\u001b[39mpath_to_regions[i],\n\u001b[1;32m   1040\u001b[0m                 valid_bc\u001b[38;5;241m=\u001b[39mvalid_bc,\n\u001b[1;32m   1041\u001b[0m                 n_frag\u001b[38;5;241m=\u001b[39mn_frag,\n\u001b[1;32m   1042\u001b[0m                 n_bc\u001b[38;5;241m=\u001b[39mn_bc,\n\u001b[1;32m   1043\u001b[0m                 tss_flank_window\u001b[38;5;241m=\u001b[39mtss_flank_window,\n\u001b[1;32m   1044\u001b[0m                 tss_window\u001b[38;5;241m=\u001b[39mtss_window,\n\u001b[1;32m   1045\u001b[0m                 tss_minimum_signal_window\u001b[38;5;241m=\u001b[39mtss_minimum_signal_window,\n\u001b[1;32m   1046\u001b[0m                 tss_rolling_window\u001b[38;5;241m=\u001b[39mtss_rolling_window,\n\u001b[1;32m   1047\u001b[0m                 min_norm\u001b[38;5;241m=\u001b[39mmin_norm,\n\u001b[1;32m   1048\u001b[0m                 partition\u001b[38;5;241m=\u001b[39mpartition,\n\u001b[1;32m   1049\u001b[0m                 check_for_duplicates\u001b[38;5;241m=\u001b[39mcheck_for_duplicates,\n\u001b[1;32m   1050\u001b[0m                 remove_duplicates\u001b[38;5;241m=\u001b[39mremove_duplicates,\n\u001b[1;32m   1051\u001b[0m                 use_polars\u001b[38;5;241m=\u001b[39muse_polars,\n\u001b[1;32m   1052\u001b[0m             )\n\u001b[1;32m   1053\u001b[0m             \u001b[38;5;28;01mfor\u001b[39;00m i \u001b[38;5;129;01min\u001b[39;00m \u001b[38;5;28mrange\u001b[39m(\u001b[38;5;28mlen\u001b[39m(fragments_list))\n\u001b[1;32m   1054\u001b[0m         ]\n\u001b[1;32m   1055\u001b[0m metadata_dict \u001b[38;5;241m=\u001b[39m {\n\u001b[1;32m   1056\u001b[0m     key: x[key] \u001b[38;5;28;01mfor\u001b[39;00m x \u001b[38;5;129;01min\u001b[39;00m \u001b[38;5;28mlist\u001b[39m(\u001b[38;5;28mlist\u001b[39m(\u001b[38;5;28mzip\u001b[39m(\u001b[38;5;241m*\u001b[39mqc_stats))[\u001b[38;5;241m0\u001b[39m]) \u001b[38;5;28;01mfor\u001b[39;00m key \u001b[38;5;129;01min\u001b[39;00m x\u001b[38;5;241m.\u001b[39mkeys()\n\u001b[1;32m   1057\u001b[0m }\n\u001b[1;32m   1058\u001b[0m profile_data_dict \u001b[38;5;241m=\u001b[39m {\n\u001b[1;32m   1059\u001b[0m     key: x[key] \u001b[38;5;28;01mfor\u001b[39;00m x \u001b[38;5;129;01min\u001b[39;00m \u001b[38;5;28mlist\u001b[39m(\u001b[38;5;28mlist\u001b[39m(\u001b[38;5;28mzip\u001b[39m(\u001b[38;5;241m*\u001b[39mqc_stats))[\u001b[38;5;241m1\u001b[39m]) \u001b[38;5;28;01mfor\u001b[39;00m key \u001b[38;5;129;01min\u001b[39;00m x\u001b[38;5;241m.\u001b[39mkeys()\n\u001b[1;32m   1060\u001b[0m }\n",
      "File \u001b[0;32m~/pycisTopic/pycisTopic/qc.py:1034\u001b[0m, in \u001b[0;36m<listcomp>\u001b[0;34m(.0)\u001b[0m\n\u001b[1;32m   1031\u001b[0m     ray\u001b[38;5;241m.\u001b[39mshutdown()\n\u001b[1;32m   1032\u001b[0m \u001b[38;5;28;01melse\u001b[39;00m:\n\u001b[1;32m   1033\u001b[0m     qc_stats \u001b[38;5;241m=\u001b[39m [\n\u001b[0;32m-> 1034\u001b[0m             \u001b[43mcompute_qc_stats_single\u001b[49m\u001b[43m(\u001b[49m\n\u001b[1;32m   1035\u001b[0m \u001b[43m                \u001b[49m\u001b[43mfragments_list\u001b[49m\u001b[43m[\u001b[49m\u001b[43mi\u001b[49m\u001b[43m]\u001b[49m\u001b[43m,\u001b[49m\n\u001b[1;32m   1036\u001b[0m \u001b[43m                \u001b[49m\u001b[43mtss_annotation\u001b[49m\u001b[38;5;241;43m=\u001b[39;49m\u001b[43mtss_annotation\u001b[49m\u001b[43m,\u001b[49m\n\u001b[1;32m   1037\u001b[0m \u001b[43m                \u001b[49m\u001b[43mstats\u001b[49m\u001b[38;5;241;43m=\u001b[39;49m\u001b[43mstats\u001b[49m\u001b[43m,\u001b[49m\n\u001b[1;32m   1038\u001b[0m \u001b[43m                \u001b[49m\u001b[43mlabel\u001b[49m\u001b[38;5;241;43m=\u001b[39;49m\u001b[43mlabel_list\u001b[49m\u001b[43m[\u001b[49m\u001b[43mi\u001b[49m\u001b[43m]\u001b[49m\u001b[43m,\u001b[49m\n\u001b[1;32m   1039\u001b[0m \u001b[43m                \u001b[49m\u001b[43mpath_to_regions\u001b[49m\u001b[38;5;241;43m=\u001b[39;49m\u001b[43mpath_to_regions\u001b[49m\u001b[43m[\u001b[49m\u001b[43mi\u001b[49m\u001b[43m]\u001b[49m\u001b[43m,\u001b[49m\n\u001b[1;32m   1040\u001b[0m \u001b[43m                \u001b[49m\u001b[43mvalid_bc\u001b[49m\u001b[38;5;241;43m=\u001b[39;49m\u001b[43mvalid_bc\u001b[49m\u001b[43m,\u001b[49m\n\u001b[1;32m   1041\u001b[0m \u001b[43m                \u001b[49m\u001b[43mn_frag\u001b[49m\u001b[38;5;241;43m=\u001b[39;49m\u001b[43mn_frag\u001b[49m\u001b[43m,\u001b[49m\n\u001b[1;32m   1042\u001b[0m \u001b[43m                \u001b[49m\u001b[43mn_bc\u001b[49m\u001b[38;5;241;43m=\u001b[39;49m\u001b[43mn_bc\u001b[49m\u001b[43m,\u001b[49m\n\u001b[1;32m   1043\u001b[0m \u001b[43m                \u001b[49m\u001b[43mtss_flank_window\u001b[49m\u001b[38;5;241;43m=\u001b[39;49m\u001b[43mtss_flank_window\u001b[49m\u001b[43m,\u001b[49m\n\u001b[1;32m   1044\u001b[0m \u001b[43m                \u001b[49m\u001b[43mtss_window\u001b[49m\u001b[38;5;241;43m=\u001b[39;49m\u001b[43mtss_window\u001b[49m\u001b[43m,\u001b[49m\n\u001b[1;32m   1045\u001b[0m \u001b[43m                \u001b[49m\u001b[43mtss_minimum_signal_window\u001b[49m\u001b[38;5;241;43m=\u001b[39;49m\u001b[43mtss_minimum_signal_window\u001b[49m\u001b[43m,\u001b[49m\n\u001b[1;32m   1046\u001b[0m \u001b[43m                \u001b[49m\u001b[43mtss_rolling_window\u001b[49m\u001b[38;5;241;43m=\u001b[39;49m\u001b[43mtss_rolling_window\u001b[49m\u001b[43m,\u001b[49m\n\u001b[1;32m   1047\u001b[0m \u001b[43m                \u001b[49m\u001b[43mmin_norm\u001b[49m\u001b[38;5;241;43m=\u001b[39;49m\u001b[43mmin_norm\u001b[49m\u001b[43m,\u001b[49m\n\u001b[1;32m   1048\u001b[0m \u001b[43m                \u001b[49m\u001b[43mpartition\u001b[49m\u001b[38;5;241;43m=\u001b[39;49m\u001b[43mpartition\u001b[49m\u001b[43m,\u001b[49m\n\u001b[1;32m   1049\u001b[0m \u001b[43m                \u001b[49m\u001b[43mcheck_for_duplicates\u001b[49m\u001b[38;5;241;43m=\u001b[39;49m\u001b[43mcheck_for_duplicates\u001b[49m\u001b[43m,\u001b[49m\n\u001b[1;32m   1050\u001b[0m \u001b[43m                \u001b[49m\u001b[43mremove_duplicates\u001b[49m\u001b[38;5;241;43m=\u001b[39;49m\u001b[43mremove_duplicates\u001b[49m\u001b[43m,\u001b[49m\n\u001b[1;32m   1051\u001b[0m \u001b[43m                \u001b[49m\u001b[43muse_polars\u001b[49m\u001b[38;5;241;43m=\u001b[39;49m\u001b[43muse_polars\u001b[49m\u001b[43m,\u001b[49m\n\u001b[1;32m   1052\u001b[0m \u001b[43m            \u001b[49m\u001b[43m)\u001b[49m\n\u001b[1;32m   1053\u001b[0m             \u001b[38;5;28;01mfor\u001b[39;00m i \u001b[38;5;129;01min\u001b[39;00m \u001b[38;5;28mrange\u001b[39m(\u001b[38;5;28mlen\u001b[39m(fragments_list))\n\u001b[1;32m   1054\u001b[0m         ]\n\u001b[1;32m   1055\u001b[0m metadata_dict \u001b[38;5;241m=\u001b[39m {\n\u001b[1;32m   1056\u001b[0m     key: x[key] \u001b[38;5;28;01mfor\u001b[39;00m x \u001b[38;5;129;01min\u001b[39;00m \u001b[38;5;28mlist\u001b[39m(\u001b[38;5;28mlist\u001b[39m(\u001b[38;5;28mzip\u001b[39m(\u001b[38;5;241m*\u001b[39mqc_stats))[\u001b[38;5;241m0\u001b[39m]) \u001b[38;5;28;01mfor\u001b[39;00m key \u001b[38;5;129;01min\u001b[39;00m x\u001b[38;5;241m.\u001b[39mkeys()\n\u001b[1;32m   1057\u001b[0m }\n\u001b[1;32m   1058\u001b[0m profile_data_dict \u001b[38;5;241m=\u001b[39m {\n\u001b[1;32m   1059\u001b[0m     key: x[key] \u001b[38;5;28;01mfor\u001b[39;00m x \u001b[38;5;129;01min\u001b[39;00m \u001b[38;5;28mlist\u001b[39m(\u001b[38;5;28mlist\u001b[39m(\u001b[38;5;28mzip\u001b[39m(\u001b[38;5;241m*\u001b[39mqc_stats))[\u001b[38;5;241m1\u001b[39m]) \u001b[38;5;28;01mfor\u001b[39;00m key \u001b[38;5;129;01min\u001b[39;00m x\u001b[38;5;241m.\u001b[39mkeys()\n\u001b[1;32m   1060\u001b[0m }\n",
      "File \u001b[0;32m~/pycisTopic/pycisTopic/qc.py:1145\u001b[0m, in \u001b[0;36mcompute_qc_stats_single\u001b[0;34m(fragments, tss_annotation, stats, label, path_to_regions, valid_bc, n_frag, n_bc, tss_flank_window, tss_window, tss_minimum_signal_window, tss_rolling_window, min_norm, partition, check_for_duplicates, remove_duplicates, use_polars)\u001b[0m\n\u001b[1;32m   1143\u001b[0m \u001b[38;5;66;03m# Prepare fragments\u001b[39;00m\n\u001b[1;32m   1144\u001b[0m \u001b[38;5;28;01mif\u001b[39;00m \u001b[38;5;28misinstance\u001b[39m(fragments, \u001b[38;5;28mstr\u001b[39m):\n\u001b[0;32m-> 1145\u001b[0m     log\u001b[38;5;241m.\u001b[39minfo(\u001b[38;5;124;43m\"\u001b[39;49m\u001b[38;5;124;43mReading \u001b[39;49m\u001b[38;5;124;43m\"\u001b[39;49m\u001b[43m \u001b[49m\u001b[38;5;241;43m+\u001b[39;49m\u001b[43m \u001b[49m\u001b[43mlabel\u001b[49m)\n\u001b[1;32m   1146\u001b[0m     fragments_df \u001b[38;5;241m=\u001b[39m read_fragments_from_file(fragments, use_polars\u001b[38;5;241m=\u001b[39muse_polars)\u001b[38;5;241m.\u001b[39mdf\n\u001b[1;32m   1147\u001b[0m \u001b[38;5;28;01melse\u001b[39;00m:\n",
      "\u001b[0;31mTypeError\u001b[0m: can only concatenate str (not \"int\") to str"
     ]
    }
   ],
   "source": [
    "path_to_regions = '/home/annac/datasets/kidney_10x/H_Kidney_Cancer_Chromium_Nuc_Iso_vs_SaltyEZ_vs_ComplexTissueDP_atac_peaks.bed'\n",
    "\n",
    "metadata_bc, profile_data_dict = compute_qc_stats(fragments_dict = fragments_dict,\n",
    "                tss_annotation = annot,\n",
    "                stats=['barcode_rank_plot', 'duplicate_rate', 'insert_size_distribution', 'profile_tss', 'frip'],\n",
    "                label_list = None,\n",
    "                path_to_regions = path_to_regions,\n",
    "                n_cpu = 1,\n",
    "                valid_bc = None,\n",
    "                n_frag = 2000,\n",
    "                n_bc = None,\n",
    "                tss_flank_window = 2000,\n",
    "                tss_window = 50,\n",
    "                tss_minimum_signal_window = 100,\n",
    "                tss_rolling_window = 10,\n",
    "                remove_duplicates = True,\n",
    "                _temp_dir = tmp_dir + 'ray_spill',\n",
    "                use_polars = True)"
   ]
  },
  {
   "cell_type": "code",
   "execution_count": 10,
   "id": "204987a3-573f-4e0e-8d76-f2e2ce429e4d",
   "metadata": {},
   "outputs": [
    {
     "ename": "TypeError",
     "evalue": "string indices must be integers",
     "output_type": "error",
     "traceback": [
      "\u001b[0;31m---------------------------------------------------------------------------\u001b[0m",
      "\u001b[0;31mTypeError\u001b[0m                                 Traceback (most recent call last)",
      "Cell \u001b[0;32mIn[10], line 1\u001b[0m\n\u001b[0;32m----> 1\u001b[0m path_to_regions \u001b[38;5;241m=\u001b[39m [path_to_regions[key] \u001b[38;5;28;01mfor\u001b[39;00m key \u001b[38;5;129;01min\u001b[39;00m fragments_dict\u001b[38;5;241m.\u001b[39mkeys()]\n",
      "Cell \u001b[0;32mIn[10], line 1\u001b[0m, in \u001b[0;36m<listcomp>\u001b[0;34m(.0)\u001b[0m\n\u001b[0;32m----> 1\u001b[0m path_to_regions \u001b[38;5;241m=\u001b[39m [\u001b[43mpath_to_regions\u001b[49m\u001b[43m[\u001b[49m\u001b[43mkey\u001b[49m\u001b[43m]\u001b[49m \u001b[38;5;28;01mfor\u001b[39;00m key \u001b[38;5;129;01min\u001b[39;00m fragments_dict\u001b[38;5;241m.\u001b[39mkeys()]\n",
      "\u001b[0;31mTypeError\u001b[0m: string indices must be integers"
     ]
    }
   ],
   "source": [
    "path_to_regions = [path_to_regions[key] for key in fragments_dict.keys()]"
   ]
  },
  {
   "cell_type": "code",
   "execution_count": null,
   "id": "84316618-1815-4699-ba15-5436d60869f5",
   "metadata": {},
   "outputs": [],
   "source": []
  }
 ],
 "metadata": {
  "kernelspec": {
   "display_name": "scenicplus",
   "language": "python",
   "name": "scenicplus"
  },
  "language_info": {
   "codemirror_mode": {
    "name": "ipython",
    "version": 3
   },
   "file_extension": ".py",
   "mimetype": "text/x-python",
   "name": "python",
   "nbconvert_exporter": "python",
   "pygments_lexer": "ipython3",
   "version": "3.8.17"
  }
 },
 "nbformat": 4,
 "nbformat_minor": 5
}
