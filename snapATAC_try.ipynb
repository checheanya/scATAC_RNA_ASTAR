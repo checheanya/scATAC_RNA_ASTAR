{
 "cells": [
  {
   "cell_type": "code",
   "execution_count": 2,
   "id": "4bd29861-3d9e-485c-8411-63abf77524f2",
   "metadata": {},
   "outputs": [],
   "source": [
    "import snapatac2 as snap\n",
    "import scanpy as sc"
   ]
  },
  {
   "cell_type": "code",
   "execution_count": 3,
   "id": "02d324b6-e857-4f25-8e22-cec30be25caa",
   "metadata": {},
   "outputs": [],
   "source": [
    "fragm_path = '/home/annac/datasets/kidney_10x/fragments.tsv.gz'"
   ]
  },
  {
   "cell_type": "code",
   "execution_count": null,
   "id": "f8749de6-d370-4fc9-b6b8-45fe9029369d",
   "metadata": {},
   "outputs": [],
   "source": [
    "data = snap.pp.import_data(\n",
    "    fragm_path,\n",
    "    genome=snap.genome.hg38,\n",
    "    file=\"kidney.h5ad\",  # Optional\n",
    "    sorted_by_barcode=False,\n",
    ")\n",
    "data"
   ]
  },
  {
   "cell_type": "code",
   "execution_count": null,
   "id": "69f5d3b3-6d38-4177-9681-d63ed46eab8f",
   "metadata": {},
   "outputs": [],
   "source": [
    "snap.pl.tsse(data, interactive=False)"
   ]
  },
  {
   "cell_type": "markdown",
   "id": "3b463539-953e-40d5-a532-65acf7db1238",
   "metadata": {},
   "source": [
    "Select threshold and filter out the data"
   ]
  },
  {
   "cell_type": "code",
   "execution_count": null,
   "id": "710adb76-f5ec-4a41-9ef0-dc5425a5929c",
   "metadata": {},
   "outputs": [],
   "source": [
    "snap.pp.filter_cells(data, min_counts=4000, min_tsse=2, max_counts=100000)\n",
    "data"
   ]
  },
  {
   "cell_type": "markdown",
   "id": "327ba7a6-1431-4811-ac0c-7323f0790375",
   "metadata": {},
   "source": [
    "Loading the data"
   ]
  },
  {
   "cell_type": "code",
   "execution_count": null,
   "id": "67e697cc-c0a5-405a-8577-cfe9cea087b8",
   "metadata": {},
   "outputs": [],
   "source": [
    "# col_slt < - c(\"patient_A.P_FPKM\", \"patient_B.P_FPKM\", \"patient_A.E_FPKM\", \"patient_B.E_FPKM\")\n",
    "counts = pd.read_csv(\"colon_cancer_tumor_vs_normal_unpaired_counts.tsv\", sep=\"\\t\", index_col=0)"
   ]
  },
  {
   "cell_type": "markdown",
   "id": "76f3bfb1-c455-41d8-8c3d-2fc3b25b4204",
   "metadata": {},
   "source": [
    "Converting all counts to TPM (or calculating them)"
   ]
  }
 ],
 "metadata": {
  "kernelspec": {
   "display_name": "Python 3 (ipykernel)",
   "language": "python",
   "name": "python3"
  },
  "language_info": {
   "codemirror_mode": {
    "name": "ipython",
    "version": 3
   },
   "file_extension": ".py",
   "mimetype": "text/x-python",
   "name": "python",
   "nbconvert_exporter": "python",
   "pygments_lexer": "ipython3",
   "version": "3.8.17"
  }
 },
 "nbformat": 4,
 "nbformat_minor": 5
}
