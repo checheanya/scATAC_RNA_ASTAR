{
 "cells": [
  {
   "cell_type": "markdown",
   "id": "25dae940-d0c7-4c50-a4bf-0a50e7331027",
   "metadata": {},
   "source": [
    "Based on https://kzhang.org/SnapATAC2/tutorials/pbmc.html (just scATAC-seq analysis) and <br>\n",
    "https://kzhang.org/SnapATAC2/tutorials/modality.html (multiomics)"
   ]
  },
  {
   "cell_type": "code",
   "execution_count": 7,
   "id": "4bd29861-3d9e-485c-8411-63abf77524f2",
   "metadata": {},
   "outputs": [],
   "source": [
    "import snapatac2 as snap\n",
    "import scanpy as sc"
   ]
  },
  {
   "cell_type": "code",
   "execution_count": 8,
   "id": "02d324b6-e857-4f25-8e22-cec30be25caa",
   "metadata": {},
   "outputs": [],
   "source": [
    "fragm_path = '/home/annac/datasets/kidney_10x/fragments.tsv.gz'"
   ]
  },
  {
   "cell_type": "markdown",
   "id": "8be5dba2-6fa8-4e48-bdaa-3948c8fb2f3d",
   "metadata": {},
   "source": [
    "## scATAC-seq analysis"
   ]
  },
  {
   "cell_type": "raw",
   "id": "cfe70442-e23f-4e90-8aa8-4470baddd3de",
   "metadata": {},
   "source": [
    "'''\n",
    "data = snap.pp.import_data(\n",
    "    fragm_path,\n",
    "    genome=snap.genome.hg38,\n",
    "    file=\"kidney.h5ad\",  # Optional\n",
    "    sorted_by_barcode=False,\n",
    ")\n",
    "data\n",
    "'''"
   ]
  },
  {
   "cell_type": "code",
   "execution_count": 5,
   "id": "d9cb139a-0ae9-4208-bcd9-041bb2c8c514",
   "metadata": {},
   "outputs": [
    {
     "name": "stdout",
     "output_type": "stream",
     "text": [
      "atac_clean.h5mu\n",
      "atac_rna_clean.h5mu\n",
      "fragments.tsv.gz\n",
      "fragments.tsv.gz.tbi\n",
      "H_Kidney_Cancer_Chromium_Nuc_Iso_vs_SaltyEZ_vs_ComplexTissueDP_aggregation.csv\n",
      "H_Kidney_Cancer_Chromium_Nuc_Iso_vs_SaltyEZ_vs_ComplexTissueDP_atac_fragments.tsv.gz\n",
      "H_Kidney_Cancer_Chromium_Nuc_Iso_vs_SaltyEZ_vs_ComplexTissueDP_atac_peaks.bed\n",
      "H_Kidney_Cancer_Chromium_Nuc_Iso_vs_SaltyEZ_vs_ComplexTissueDP_filtered_feature_bc_matrix.h5\n",
      "H_Kidney_Cancer_Chromium_Nuc_Iso_vs_SaltyEZ_vs_ComplexTissueDP_raw_feature_bc_matrix.h5\n",
      "H_Kidney_Cancer_Chromium_Nuc_Iso_vs_SaltyEZ_vs_ComplexTissueDP_raw_feature_bc_matrix.tar.gz\n",
      "H_Kidney_Cancer_Chromium_Nuc_Iso_vs_SaltyEZ_vs_ComplexTissueDP_summary.csv\n",
      "raw_feature_bc_matrix\n",
      "rna_seq_x.feather\n"
     ]
    }
   ],
   "source": [
    "!ls datasets/kidney_10x"
   ]
  },
  {
   "cell_type": "code",
   "execution_count": 9,
   "id": "dc8caae4-6f80-492b-afbe-87792b7bf8b8",
   "metadata": {},
   "outputs": [],
   "source": [
    "atac_snap = snap.read('datasets/kidney_10x/H_Kidney_Cancer_Chromium_Nuc_Iso_vs_SaltyEZ_vs_ComplexTissueDP_raw_feature_bc_matrix.h5')"
   ]
  },
  {
   "cell_type": "code",
   "execution_count": 10,
   "id": "b6163dee-e149-4b99-9d82-d7f467816bd5",
   "metadata": {},
   "outputs": [
    {
     "data": {
      "text/plain": [
       "AnnData object with n_obs x n_vars = 0 x 0 backed at 'datasets/kidney_10x/H_Kidney_Cancer_Chromium_Nuc_Iso_vs_SaltyEZ_vs_ComplexTissueDP_raw_feature_bc_matrix.h5'"
      ]
     },
     "execution_count": 10,
     "metadata": {},
     "output_type": "execute_result"
    }
   ],
   "source": [
    "atac_snap"
   ]
  },
  {
   "cell_type": "code",
   "execution_count": null,
   "id": "69f5d3b3-6d38-4177-9681-d63ed46eab8f",
   "metadata": {},
   "outputs": [],
   "source": [
    "snap.pl.tsse(data, interactive=False)"
   ]
  },
  {
   "cell_type": "markdown",
   "id": "3b463539-953e-40d5-a532-65acf7db1238",
   "metadata": {},
   "source": [
    "Select threshold and filter out the data"
   ]
  },
  {
   "cell_type": "code",
   "execution_count": null,
   "id": "710adb76-f5ec-4a41-9ef0-dc5425a5929c",
   "metadata": {},
   "outputs": [],
   "source": [
    "snap.pp.filter_cells(data, min_counts=4000, min_tsse=2, max_counts=100000)\n",
    "data"
   ]
  },
  {
   "cell_type": "markdown",
   "id": "327ba7a6-1431-4811-ac0c-7323f0790375",
   "metadata": {},
   "source": [
    "Creating a cell by bin matrix containing insertion counts across genome-wide 500-bp bins."
   ]
  },
  {
   "cell_type": "code",
   "execution_count": null,
   "id": "67e697cc-c0a5-405a-8577-cfe9cea087b8",
   "metadata": {},
   "outputs": [],
   "source": [
    "snap.pp.add_tile_matrix(data)"
   ]
  },
  {
   "cell_type": "markdown",
   "id": "76f3bfb1-c455-41d8-8c3d-2fc3b25b4204",
   "metadata": {},
   "source": [
    "Selecting features"
   ]
  },
  {
   "cell_type": "code",
   "execution_count": null,
   "id": "b449404d-1759-412e-a9f6-7195d40ba3c8",
   "metadata": {},
   "outputs": [],
   "source": [
    "snap.pp.select_features(data, n_features=250000)"
   ]
  },
  {
   "cell_type": "markdown",
   "id": "d62d42eb-26b3-486e-a926-701246f96e21",
   "metadata": {},
   "source": [
    "## scRNA-seq analysis"
   ]
  },
  {
   "cell_type": "code",
   "execution_count": null,
   "id": "c5f25bd1-9c09-4523-8b68-ca96f0a30a95",
   "metadata": {},
   "outputs": [],
   "source": []
  }
 ],
 "metadata": {
  "kernelspec": {
   "display_name": "Python 3 (ipykernel)",
   "language": "python",
   "name": "python3"
  },
  "language_info": {
   "codemirror_mode": {
    "name": "ipython",
    "version": 3
   },
   "file_extension": ".py",
   "mimetype": "text/x-python",
   "name": "python",
   "nbconvert_exporter": "python",
   "pygments_lexer": "ipython3",
   "version": "3.8.17"
  }
 },
 "nbformat": 4,
 "nbformat_minor": 5
}
