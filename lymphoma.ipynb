{
 "cells": [
  {
   "cell_type": "markdown",
   "id": "f98401dc-3534-45db-8ebc-111021232cba",
   "metadata": {},
   "source": [
    "raw and filetered matrices for ATAC-seq"
   ]
  },
  {
   "cell_type": "code",
   "execution_count": 1,
   "id": "3775fc1d-5c31-4993-b10c-8cad159c7b25",
   "metadata": {},
   "outputs": [
    {
     "name": "stdout",
     "output_type": "stream",
     "text": [
      "--2023-07-11 21:34:54--  https://cf.10xgenomics.com/samples/cell-arc/2.0.0/lymph_node_lymphoma_14k/lymph_node_lymphoma_14k_raw_feature_bc_matrix.h5\n",
      "Resolving cf.10xgenomics.com (cf.10xgenomics.com)... 104.18.0.173, 104.18.1.173, 2606:4700::6812:ad, ...\n",
      "Connecting to cf.10xgenomics.com (cf.10xgenomics.com)|104.18.0.173|:443... connected.\n",
      "HTTP request sent, awaiting response... 200 OK\n",
      "Length: 145685802 (139M) [binary/octet-stream]\n",
      "Saving to: ‘lymph_node_lymphoma_14k_raw_feature_bc_matrix.h5’\n",
      "\n",
      "lymph_node_lymphoma 100%[===================>] 138.94M  11.1MB/s    in 13s     \n",
      "\n",
      "2023-07-11 21:35:08 (10.5 MB/s) - ‘lymph_node_lymphoma_14k_raw_feature_bc_matrix.h5’ saved [145685802/145685802]\n",
      "\n"
     ]
    }
   ],
   "source": [
    "!wget https://cf.10xgenomics.com/samples/cell-arc/2.0.0/lymph_node_lymphoma_14k/lymph_node_lymphoma_14k_raw_feature_bc_matrix.h5"
   ]
  },
  {
   "cell_type": "code",
   "execution_count": 5,
   "id": "8d20d2cf-06f5-4e7d-a6ff-e8e885167513",
   "metadata": {},
   "outputs": [
    {
     "name": "stdout",
     "output_type": "stream",
     "text": [
      "--2023-07-11 21:36:55--  https://cf.10xgenomics.com/samples/cell-arc/2.0.0/lymph_node_lymphoma_14k/lymph_node_lymphoma_14k_filtered_feature_bc_matrix.h5\n",
      "Resolving cf.10xgenomics.com (cf.10xgenomics.com)... 104.18.0.173, 104.18.1.173, 2606:4700::6812:ad, ...\n",
      "Connecting to cf.10xgenomics.com (cf.10xgenomics.com)|104.18.0.173|:443... connected.\n",
      "HTTP request sent, awaiting response... 200 OK\n",
      "Length: 131915205 (126M) [binary/octet-stream]\n",
      "Saving to: ‘lymph_node_lymphoma_14k_filtered_feature_bc_matrix.h5’\n",
      "\n",
      "lymph_node_lymphoma 100%[===================>] 125.80M  11.3MB/s    in 12s     \n",
      "\n",
      "2023-07-11 21:37:08 (10.4 MB/s) - ‘lymph_node_lymphoma_14k_filtered_feature_bc_matrix.h5’ saved [131915205/131915205]\n",
      "\n"
     ]
    }
   ],
   "source": [
    "!wget https://cf.10xgenomics.com/samples/cell-arc/2.0.0/lymph_node_lymphoma_14k/lymph_node_lymphoma_14k_filtered_feature_bc_matrix.h5"
   ]
  },
  {
   "cell_type": "markdown",
   "id": "da6e4f61-f795-47f1-bf5a-7e9ead127a01",
   "metadata": {},
   "source": [
    "RNA-seq data"
   ]
  },
  {
   "cell_type": "code",
   "execution_count": 2,
   "id": "251f5061-f894-4b93-bd0b-b3ab9c0b9856",
   "metadata": {},
   "outputs": [
    {
     "name": "stdout",
     "output_type": "stream",
     "text": [
      "--2023-07-12 15:13:39--  https://cf.10xgenomics.com/samples/cell-arc/2.0.0/lymph_node_lymphoma_14k/lymph_node_lymphoma_14k_gex_molecule_info.h5\n",
      "Resolving cf.10xgenomics.com (cf.10xgenomics.com)... 104.18.1.173, 104.18.0.173, 2606:4700::6812:1ad, ...\n",
      "Connecting to cf.10xgenomics.com (cf.10xgenomics.com)|104.18.1.173|:443... connected.\n",
      "HTTP request sent, awaiting response... 200 OK\n",
      "Length: 217947599 (208M) [binary/octet-stream]\n",
      "Saving to: ‘lymph_node_lymphoma_14k_gex_molecule_info.h5.1’\n",
      "\n",
      "lymph_node_lymphoma 100%[===================>] 207.85M   110MB/s    in 1.9s    \n",
      "\n",
      "2023-07-12 15:13:41 (110 MB/s) - ‘lymph_node_lymphoma_14k_gex_molecule_info.h5.1’ saved [217947599/217947599]\n",
      "\n"
     ]
    }
   ],
   "source": [
    "!wget https://cf.10xgenomics.com/samples/cell-arc/2.0.0/lymph_node_lymphoma_14k/lymph_node_lymphoma_14k_gex_molecule_info.h5"
   ]
  },
  {
   "cell_type": "code",
   "execution_count": 1,
   "id": "bf8ca9a3-76fc-419d-beff-23cf2e1f7751",
   "metadata": {},
   "outputs": [
    {
     "name": "stderr",
     "output_type": "stream",
     "text": [
      "/home/annac/mambaforge/lib/python3.8/site-packages/umap/distances.py:1063: NumbaDeprecationWarning: \u001b[1mThe 'nopython' keyword argument was not supplied to the 'numba.jit' decorator. The implicit default value for this argument is currently False, but it will be changed to True in Numba 0.59.0. See https://numba.readthedocs.io/en/stable/reference/deprecation.html#deprecation-of-object-mode-fall-back-behaviour-when-using-jit for details.\u001b[0m\n",
      "  @numba.jit()\n",
      "/home/annac/mambaforge/lib/python3.8/site-packages/umap/distances.py:1071: NumbaDeprecationWarning: \u001b[1mThe 'nopython' keyword argument was not supplied to the 'numba.jit' decorator. The implicit default value for this argument is currently False, but it will be changed to True in Numba 0.59.0. See https://numba.readthedocs.io/en/stable/reference/deprecation.html#deprecation-of-object-mode-fall-back-behaviour-when-using-jit for details.\u001b[0m\n",
      "  @numba.jit()\n",
      "/home/annac/mambaforge/lib/python3.8/site-packages/umap/distances.py:1086: NumbaDeprecationWarning: \u001b[1mThe 'nopython' keyword argument was not supplied to the 'numba.jit' decorator. The implicit default value for this argument is currently False, but it will be changed to True in Numba 0.59.0. See https://numba.readthedocs.io/en/stable/reference/deprecation.html#deprecation-of-object-mode-fall-back-behaviour-when-using-jit for details.\u001b[0m\n",
      "  @numba.jit()\n",
      "/home/annac/mambaforge/lib/python3.8/site-packages/tqdm/auto.py:21: TqdmWarning: IProgress not found. Please update jupyter and ipywidgets. See https://ipywidgets.readthedocs.io/en/stable/user_install.html\n",
      "  from .autonotebook import tqdm as notebook_tqdm\n",
      "/home/annac/mambaforge/lib/python3.8/site-packages/umap/umap_.py:660: NumbaDeprecationWarning: \u001b[1mThe 'nopython' keyword argument was not supplied to the 'numba.jit' decorator. The implicit default value for this argument is currently False, but it will be changed to True in Numba 0.59.0. See https://numba.readthedocs.io/en/stable/reference/deprecation.html#deprecation-of-object-mode-fall-back-behaviour-when-using-jit for details.\u001b[0m\n",
      "  @numba.jit()\n"
     ]
    }
   ],
   "source": [
    "import numpy as np\n",
    "import pandas as pd\n",
    "import rpy2\n",
    "import scanpy as sc\n",
    "\n",
    "import seaborn as sns \n",
    "import matplotlib.pyplot as plt\n",
    "\n",
    "import os\n",
    "import scipy.io\n",
    "\n",
    "import muon as mu"
   ]
  },
  {
   "cell_type": "code",
   "execution_count": 3,
   "id": "49cad635-d420-43a4-b7a1-b1d9dcb9c988",
   "metadata": {},
   "outputs": [
    {
     "name": "stdout",
     "output_type": "stream",
     "text": [
      "lymph_node_lymphoma_14k_atac_fragments.tsv.gz\n",
      "lymph_node_lymphoma_14k_atac_fragments.tsv.gz.tbi\n",
      "lymph_node_lymphoma_14k_filtered_feature_bc_matrix.h5\n",
      "lymph_node_lymphoma_14k_gex_molecule_info.h5\n",
      "lymph_node_lymphoma_14k_per_barcode_metrics.csv\n",
      "lymph_node_lymphoma_14k_raw_feature_bc_matrix.h5\n"
     ]
    }
   ],
   "source": [
    "!ls datasets/lymphoma_10x"
   ]
  },
  {
   "cell_type": "code",
   "execution_count": 4,
   "id": "745a8fa7-6fd7-457c-8b62-480d3a09b21c",
   "metadata": {},
   "outputs": [
    {
     "name": "stderr",
     "output_type": "stream",
     "text": [
      "/home/annac/mambaforge/lib/python3.8/site-packages/anndata/_core/anndata.py:1832: UserWarning: Variable names are not unique. To make them unique, call `.var_names_make_unique`.\n",
      "  utils.warn_names_duplicates(\"var\")\n"
     ]
    },
    {
     "name": "stdout",
     "output_type": "stream",
     "text": [
      "Added `interval` annotation for features from datasets/lymphoma_10x/lymph_node_lymphoma_14k_raw_feature_bc_matrix.h5\n"
     ]
    },
    {
     "name": "stderr",
     "output_type": "stream",
     "text": [
      "/home/annac/mambaforge/lib/python3.8/site-packages/anndata/_core/anndata.py:1832: UserWarning: Variable names are not unique. To make them unique, call `.var_names_make_unique`.\n",
      "  utils.warn_names_duplicates(\"var\")\n",
      "/home/annac/mambaforge/lib/python3.8/site-packages/mudata/_core/mudata.py:479: UserWarning: var_names are not unique. To make them unique, call `.var_names_make_unique`.\n",
      "  warnings.warn(\n",
      "/home/annac/mambaforge/lib/python3.8/site-packages/anndata/_core/anndata.py:1832: UserWarning: Variable names are not unique. To make them unique, call `.var_names_make_unique`.\n",
      "  utils.warn_names_duplicates(\"var\")\n"
     ]
    },
    {
     "name": "stdout",
     "output_type": "stream",
     "text": [
      "Added `interval` annotation for features from datasets/lymphoma_10x/lymph_node_lymphoma_14k_filtered_feature_bc_matrix.h5\n"
     ]
    },
    {
     "name": "stderr",
     "output_type": "stream",
     "text": [
      "/home/annac/mambaforge/lib/python3.8/site-packages/anndata/_core/anndata.py:1832: UserWarning: Variable names are not unique. To make them unique, call `.var_names_make_unique`.\n",
      "  utils.warn_names_duplicates(\"var\")\n",
      "/home/annac/mambaforge/lib/python3.8/site-packages/mudata/_core/mudata.py:479: UserWarning: var_names are not unique. To make them unique, call `.var_names_make_unique`.\n",
      "  warnings.warn(\n"
     ]
    }
   ],
   "source": [
    "mdata = mu.read_10x_h5(\"datasets/lymphoma_10x/lymph_node_lymphoma_14k_raw_feature_bc_matrix.h5\")\n",
    "mdata_filtered = mu.read_10x_h5(\"datasets/lymphoma_10x/lymph_node_lymphoma_14k_filtered_feature_bc_matrix.h5\")"
   ]
  },
  {
   "cell_type": "code",
   "execution_count": 7,
   "id": "1452c5c1-96b8-44bc-837c-d1b977b1805c",
   "metadata": {},
   "outputs": [],
   "source": [
    "mu.atac.tl.locate_fragments(mdata, '/home/annac/datasets/lymphoma_10x/lymph_node_lymphoma_14k_atac_fragments.tsv.gz')"
   ]
  },
  {
   "cell_type": "code",
   "execution_count": 8,
   "id": "7b2554f3-98cf-41b0-a9c5-50c8ed0b3fe6",
   "metadata": {},
   "outputs": [],
   "source": [
    "mu.atac.tl.locate_fragments(mdata_filtered, '/home/annac/datasets/lymphoma_10x/lymph_node_lymphoma_14k_atac_fragments.tsv.gz')"
   ]
  },
  {
   "cell_type": "code",
   "execution_count": 9,
   "id": "0e203364-6e90-47b7-8cc5-1f16b0e864c6",
   "metadata": {},
   "outputs": [
    {
     "data": {
      "text/html": [
       "<pre>MuData object with n_obs × n_vars = 718370 × 146390\n",
       "  var:\t&#x27;gene_ids&#x27;, &#x27;feature_types&#x27;, &#x27;genome&#x27;, &#x27;interval&#x27;\n",
       "  2 modalities\n",
       "    rna:\t718370 x 36601\n",
       "      var:\t&#x27;gene_ids&#x27;, &#x27;feature_types&#x27;, &#x27;genome&#x27;, &#x27;interval&#x27;\n",
       "    atac:\t718370 x 109789\n",
       "      var:\t&#x27;gene_ids&#x27;, &#x27;feature_types&#x27;, &#x27;genome&#x27;, &#x27;interval&#x27;\n",
       "      uns:\t&#x27;files&#x27;</pre>"
      ],
      "text/plain": [
       "MuData object with n_obs × n_vars = 718370 × 146390\n",
       "  var:\t'gene_ids', 'feature_types', 'genome', 'interval'\n",
       "  2 modalities\n",
       "    rna:\t718370 x 36601\n",
       "      var:\t'gene_ids', 'feature_types', 'genome', 'interval'\n",
       "    atac:\t718370 x 109789\n",
       "      var:\t'gene_ids', 'feature_types', 'genome', 'interval'\n",
       "      uns:\t'files'"
      ]
     },
     "execution_count": 9,
     "metadata": {},
     "output_type": "execute_result"
    }
   ],
   "source": [
    "mdata"
   ]
  },
  {
   "cell_type": "code",
   "execution_count": 10,
   "id": "5892bccc-06c8-4c28-9918-bedce127b191",
   "metadata": {},
   "outputs": [
    {
     "data": {
      "text/html": [
       "<pre>MuData object with n_obs × n_vars = 14566 × 146390\n",
       "  var:\t&#x27;gene_ids&#x27;, &#x27;feature_types&#x27;, &#x27;genome&#x27;, &#x27;interval&#x27;\n",
       "  2 modalities\n",
       "    rna:\t14566 x 36601\n",
       "      var:\t&#x27;gene_ids&#x27;, &#x27;feature_types&#x27;, &#x27;genome&#x27;, &#x27;interval&#x27;\n",
       "    atac:\t14566 x 109789\n",
       "      var:\t&#x27;gene_ids&#x27;, &#x27;feature_types&#x27;, &#x27;genome&#x27;, &#x27;interval&#x27;\n",
       "      uns:\t&#x27;files&#x27;</pre>"
      ],
      "text/plain": [
       "MuData object with n_obs × n_vars = 14566 × 146390\n",
       "  var:\t'gene_ids', 'feature_types', 'genome', 'interval'\n",
       "  2 modalities\n",
       "    rna:\t14566 x 36601\n",
       "      var:\t'gene_ids', 'feature_types', 'genome', 'interval'\n",
       "    atac:\t14566 x 109789\n",
       "      var:\t'gene_ids', 'feature_types', 'genome', 'interval'\n",
       "      uns:\t'files'"
      ]
     },
     "execution_count": 10,
     "metadata": {},
     "output_type": "execute_result"
    }
   ],
   "source": [
    "mdata_filtered"
   ]
  },
  {
   "cell_type": "code",
   "execution_count": 11,
   "id": "905bedd3-7d4f-44ac-89d5-133d01836472",
   "metadata": {},
   "outputs": [
    {
     "name": "stdout",
     "output_type": "stream",
     "text": [
      "Collecting tables\n",
      "  Downloading tables-3.8.0-cp310-cp310-manylinux_2_17_x86_64.manylinux2014_x86_64.whl (6.5 MB)\n",
      "\u001b[2K     \u001b[38;2;114;156;31m━━━━━━━━━━━━━━━━━━━━━━━━━━━━━━━━━━━━━━━━\u001b[0m \u001b[32m6.5/6.5 MB\u001b[0m \u001b[31m44.1 MB/s\u001b[0m eta \u001b[36m0:00:00\u001b[0mm eta \u001b[36m0:00:01\u001b[0m[36m0:00:01\u001b[0m\n",
      "\u001b[?25hRequirement already satisfied: cython>=0.29.21 in ./mambaforge/lib/python3.10/site-packages (from tables) (0.29.36)\n",
      "Requirement already satisfied: numpy>=1.19.0 in ./mambaforge/lib/python3.10/site-packages (from tables) (1.24.4)\n",
      "Collecting numexpr>=2.6.2 (from tables)\n",
      "  Downloading numexpr-2.8.4-cp310-cp310-manylinux_2_17_x86_64.manylinux2014_x86_64.whl (381 kB)\n",
      "\u001b[2K     \u001b[38;2;114;156;31m━━━━━━━━━━━━━━━━━━━━━━━━━━━━━━━━━━━━━━\u001b[0m \u001b[32m381.4/381.4 kB\u001b[0m \u001b[31m39.8 MB/s\u001b[0m eta \u001b[36m0:00:00\u001b[0m\n",
      "\u001b[?25hCollecting blosc2~=2.0.0 (from tables)\n",
      "  Downloading blosc2-2.0.0-cp310-cp310-manylinux_2_17_x86_64.manylinux2014_x86_64.whl (3.9 MB)\n",
      "\u001b[2K     \u001b[38;2;114;156;31m━━━━━━━━━━━━━━━━━━━━━━━━━━━━━━━━━━━━━━━━\u001b[0m \u001b[32m3.9/3.9 MB\u001b[0m \u001b[31m33.8 MB/s\u001b[0m eta \u001b[36m0:00:00\u001b[0mm eta \u001b[36m0:00:01\u001b[0m0:01\u001b[0m\n",
      "\u001b[?25hRequirement already satisfied: packaging in ./mambaforge/lib/python3.10/site-packages (from tables) (23.1)\n",
      "Collecting py-cpuinfo (from tables)\n",
      "  Downloading py_cpuinfo-9.0.0-py3-none-any.whl (22 kB)\n",
      "Collecting msgpack (from blosc2~=2.0.0->tables)\n",
      "  Downloading msgpack-1.0.5-cp310-cp310-manylinux_2_17_x86_64.manylinux2014_x86_64.whl (316 kB)\n",
      "\u001b[2K     \u001b[38;2;114;156;31m━━━━━━━━━━━━━━━━━━━━━━━━━━━━━━━━━━━━━━\u001b[0m \u001b[32m316.8/316.8 kB\u001b[0m \u001b[31m33.6 MB/s\u001b[0m eta \u001b[36m0:00:00\u001b[0m\n",
      "\u001b[?25hInstalling collected packages: py-cpuinfo, msgpack, numexpr, blosc2, tables\n",
      "Successfully installed blosc2-2.0.0 msgpack-1.0.5 numexpr-2.8.4 py-cpuinfo-9.0.0 tables-3.8.0\n",
      "Note: you may need to restart the kernel to use updated packages.\n"
     ]
    }
   ],
   "source": [
    "pip install tables"
   ]
  },
  {
   "cell_type": "code",
   "execution_count": 12,
   "id": "e801b9c6-99f6-4718-afde-f0449cb10962",
   "metadata": {},
   "outputs": [
    {
     "name": "stdout",
     "output_type": "stream",
     "text": [
      "/home/annac/lymph_node_lymphoma_14k_gex_molecule_info.h5 (File) ''\n",
      "Last modif.: '2021-05-01T00:23:39+00:00'\n",
      "Object Tree: \n",
      "/ (RootGroup) ''\n",
      "/barcode_idx (EArray(44600965,)shuffle, zlib(1)) ''\n",
      "/barcodes (CArray(631139,)shuffle, zlib(1)) ''\n",
      "/count (EArray(44600965,)shuffle, zlib(1)) ''\n",
      "/feature_idx (EArray(44600965,)shuffle, zlib(1)) ''\n",
      "/gem_group (EArray(44600965,)shuffle, zlib(1)) ''\n",
      "/library_idx (EArray(44600965,)shuffle, zlib(1)) ''\n",
      "/library_info (Array(1,)) ''\n",
      "/metrics_json (UnImplemented()) ''\n",
      "/umi (EArray(44600965,)shuffle, zlib(1)) ''\n",
      "/umi_type (EArray(44600965,)shuffle, zlib(1)) ''\n",
      "/barcode_info (Group) ''\n",
      "/barcode_info/genomes (EArray(1,)shuffle, zlib(1)) ''\n",
      "/barcode_info/pass_filter (EArray(14566, 3)shuffle, zlib(1)) ''\n",
      "/features (Group) ''\n",
      "/features/_all_tag_keys (Array(1,)) ''\n",
      "/features/feature_type (CArray(36601,)shuffle, zlib(1)) ''\n",
      "/features/genome (CArray(36601,)shuffle, zlib(1)) ''\n",
      "/features/id (CArray(36601,)shuffle, zlib(1)) ''\n",
      "/features/name (CArray(36601,)shuffle, zlib(1)) ''\n",
      "\n"
     ]
    },
    {
     "name": "stderr",
     "output_type": "stream",
     "text": [
      "/home/annac/mambaforge/lib/python3.10/site-packages/tables/group.py:1160: UserWarning: problems loading leaf ``/metrics_json``::\n",
      "\n",
      "  variable length strings are not supported yet\n",
      "\n",
      "The leaf will become an ``UnImplemented`` node.\n",
      "  warnings.warn(\n"
     ]
    }
   ],
   "source": [
    "import tables \n",
    "\n",
    "with tables.open_file('/home/annac/lymph_node_lymphoma_14k_gex_molecule_info.h5') as f:\n",
    "    print(f)"
   ]
  },
  {
   "cell_type": "code",
   "execution_count": 14,
   "id": "5eefa255-2a54-4b77-863f-8f6e1380c9e9",
   "metadata": {},
   "outputs": [
    {
     "ename": "ValueError",
     "evalue": "'/home/annac/lymph_node_lymphoma_14k_gex_molecule_info.h5' contains more than one genome. For legacy 10x h5 files you must specify the genome if more than one is present. Available genomes are: ['barcode_idx', 'barcode_info', 'barcodes', 'count', 'feature_idx', 'features', 'gem_group', 'library_idx', 'library_info', 'metrics_json', 'umi', 'umi_type']",
     "output_type": "error",
     "traceback": [
      "\u001b[0;31m---------------------------------------------------------------------------\u001b[0m",
      "\u001b[0;31mValueError\u001b[0m                                Traceback (most recent call last)",
      "Cell \u001b[0;32mIn[14], line 1\u001b[0m\n\u001b[0;32m----> 1\u001b[0m rna_gex \u001b[38;5;241m=\u001b[39m \u001b[43msc\u001b[49m\u001b[38;5;241;43m.\u001b[39;49m\u001b[43mread_10x_h5\u001b[49m\u001b[43m(\u001b[49m\u001b[38;5;124;43m'\u001b[39;49m\u001b[38;5;124;43m/home/annac/lymph_node_lymphoma_14k_gex_molecule_info.h5\u001b[39;49m\u001b[38;5;124;43m'\u001b[39;49m\u001b[43m,\u001b[49m\u001b[43m \u001b[49m\u001b[43mgenome\u001b[49m\u001b[38;5;241;43m=\u001b[39;49m\u001b[38;5;28;43;01mNone\u001b[39;49;00m\u001b[43m,\u001b[49m\u001b[43m \u001b[49m\u001b[43mgex_only\u001b[49m\u001b[38;5;241;43m=\u001b[39;49m\u001b[38;5;28;43;01mTrue\u001b[39;49;00m\u001b[43m)\u001b[49m\n",
      "File \u001b[0;32m~/mambaforge/lib/python3.10/site-packages/scanpy/readwrite.py:196\u001b[0m, in \u001b[0;36mread_10x_h5\u001b[0;34m(filename, genome, gex_only, backup_url)\u001b[0m\n\u001b[1;32m    194\u001b[0m         adata \u001b[38;5;241m=\u001b[39m adata\u001b[38;5;241m.\u001b[39mcopy()\n\u001b[1;32m    195\u001b[0m \u001b[38;5;28;01melse\u001b[39;00m:\n\u001b[0;32m--> 196\u001b[0m     adata \u001b[38;5;241m=\u001b[39m \u001b[43m_read_legacy_10x_h5\u001b[49m\u001b[43m(\u001b[49m\u001b[43mfilename\u001b[49m\u001b[43m,\u001b[49m\u001b[43m \u001b[49m\u001b[43mgenome\u001b[49m\u001b[38;5;241;43m=\u001b[39;49m\u001b[43mgenome\u001b[49m\u001b[43m,\u001b[49m\u001b[43m \u001b[49m\u001b[43mstart\u001b[49m\u001b[38;5;241;43m=\u001b[39;49m\u001b[43mstart\u001b[49m\u001b[43m)\u001b[49m\n\u001b[1;32m    197\u001b[0m \u001b[38;5;28;01mreturn\u001b[39;00m adata\n",
      "File \u001b[0;32m~/mambaforge/lib/python3.10/site-packages/scanpy/readwrite.py:209\u001b[0m, in \u001b[0;36m_read_legacy_10x_h5\u001b[0;34m(filename, genome, start)\u001b[0m\n\u001b[1;32m    207\u001b[0m \u001b[38;5;28;01mif\u001b[39;00m \u001b[38;5;129;01mnot\u001b[39;00m genome:\n\u001b[1;32m    208\u001b[0m     \u001b[38;5;28;01mif\u001b[39;00m \u001b[38;5;28mlen\u001b[39m(children) \u001b[38;5;241m>\u001b[39m \u001b[38;5;241m1\u001b[39m:\n\u001b[0;32m--> 209\u001b[0m         \u001b[38;5;28;01mraise\u001b[39;00m \u001b[38;5;167;01mValueError\u001b[39;00m(\n\u001b[1;32m    210\u001b[0m             \u001b[38;5;124mf\u001b[39m\u001b[38;5;124m\"\u001b[39m\u001b[38;5;124m'\u001b[39m\u001b[38;5;132;01m{\u001b[39;00mfilename\u001b[38;5;132;01m}\u001b[39;00m\u001b[38;5;124m'\u001b[39m\u001b[38;5;124m contains more than one genome. For legacy 10x h5 \u001b[39m\u001b[38;5;124m\"\u001b[39m\n\u001b[1;32m    211\u001b[0m             \u001b[38;5;124m\"\u001b[39m\u001b[38;5;124mfiles you must specify the genome if more than one is present. \u001b[39m\u001b[38;5;124m\"\u001b[39m\n\u001b[1;32m    212\u001b[0m             \u001b[38;5;124mf\u001b[39m\u001b[38;5;124m\"\u001b[39m\u001b[38;5;124mAvailable genomes are: \u001b[39m\u001b[38;5;132;01m{\u001b[39;00mchildren\u001b[38;5;132;01m}\u001b[39;00m\u001b[38;5;124m\"\u001b[39m\n\u001b[1;32m    213\u001b[0m         )\n\u001b[1;32m    214\u001b[0m     genome \u001b[38;5;241m=\u001b[39m children[\u001b[38;5;241m0\u001b[39m]\n\u001b[1;32m    215\u001b[0m \u001b[38;5;28;01melif\u001b[39;00m genome \u001b[38;5;129;01mnot\u001b[39;00m \u001b[38;5;129;01min\u001b[39;00m children:\n",
      "\u001b[0;31mValueError\u001b[0m: '/home/annac/lymph_node_lymphoma_14k_gex_molecule_info.h5' contains more than one genome. For legacy 10x h5 files you must specify the genome if more than one is present. Available genomes are: ['barcode_idx', 'barcode_info', 'barcodes', 'count', 'feature_idx', 'features', 'gem_group', 'library_idx', 'library_info', 'metrics_json', 'umi', 'umi_type']"
     ]
    }
   ],
   "source": [
    "rna_gex = mu.read_10x_h5('/home/annac/lymph_node_lymphoma_14k_gex_molecule_info.h5', genome=None, gex_only=True)"
   ]
  },
  {
   "cell_type": "code",
   "execution_count": null,
   "id": "0f13d978-2457-473a-80e8-371c45c33cd1",
   "metadata": {},
   "outputs": [],
   "source": []
  }
 ],
 "metadata": {
  "kernelspec": {
   "display_name": "Python 3 (ipykernel)",
   "language": "python",
   "name": "python3"
  },
  "language_info": {
   "codemirror_mode": {
    "name": "ipython",
    "version": 3
   },
   "file_extension": ".py",
   "mimetype": "text/x-python",
   "name": "python",
   "nbconvert_exporter": "python",
   "pygments_lexer": "ipython3",
   "version": "3.8.17"
  }
 },
 "nbformat": 4,
 "nbformat_minor": 5
}
