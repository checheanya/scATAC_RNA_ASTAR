{
 "cells": [
  {
   "cell_type": "code",
   "execution_count": 3,
   "id": "f04b9ea9-8bff-4a3b-ae49-2f5f8ef19dc2",
   "metadata": {},
   "outputs": [],
   "source": [
    "import pyreadr\n",
    "import pandas as pd\n",
    "import numpy as np\n",
    "\n",
    "import matplotlib.pyplot as plt\n",
    "import seaborn as sns"
   ]
  },
  {
   "cell_type": "code",
   "execution_count": 4,
   "id": "ef124e71-c451-4e42-aab6-f3f4d555c4d6",
   "metadata": {},
   "outputs": [],
   "source": [
    "path_not_norm = '/home/annac/datasets/atac_pan_cans/TCGA-ATAC_PanCan_Log2Norm_Counts.rds'\n",
    "path_norm = '/home/annac/datasets/atac_pan_cans/TCGA-ATAC_PanCan_Raw_Counts.rds'"
   ]
  },
  {
   "cell_type": "code",
   "execution_count": null,
   "id": "15c4f31b-f362-4d3d-8827-4fe25333ccd5",
   "metadata": {},
   "outputs": [],
   "source": [
    "atac_count_matrix_not_norm = pyreadr.read_r(path_not_norm) # also works for RData\n",
    "atac_count_matrix_norm = pyreadr.read_r(path_norm) # also works for RData\n",
    "\n",
    "atac_count_matrix_not_norm = atac_count_matrix_not_norm[None] # extract the pandas data frame \n",
    "atac_count_matrix_norm = atac_count_matrix_norm[None]"
   ]
  },
  {
   "cell_type": "code",
   "execution_count": null,
   "id": "5973b657-83fd-4138-a247-38d0ee32b2ea",
   "metadata": {},
   "outputs": [],
   "source": []
  }
 ],
 "metadata": {
  "kernelspec": {
   "display_name": "Python 3 (ipykernel)",
   "language": "python",
   "name": "python3"
  },
  "language_info": {
   "codemirror_mode": {
    "name": "ipython",
    "version": 3
   },
   "file_extension": ".py",
   "mimetype": "text/x-python",
   "name": "python",
   "nbconvert_exporter": "python",
   "pygments_lexer": "ipython3",
   "version": "3.8.17"
  }
 },
 "nbformat": 4,
 "nbformat_minor": 5
}
